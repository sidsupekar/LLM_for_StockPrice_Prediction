{
 "cells": [
  {
   "cell_type": "code",
   "execution_count": 1,
   "id": "70f37e0b",
   "metadata": {},
   "outputs": [],
   "source": [
    "# Import required libraries\n",
    "import torch"
   ]
  },
  {
   "cell_type": "code",
   "execution_count": 2,
   "id": "4cdaa605",
   "metadata": {},
   "outputs": [],
   "source": [
    "import pandas as pd\n",
    "import numpy as np\n",
    "import matplotlib.pyplot as plt"
   ]
  },
  {
   "cell_type": "code",
   "execution_count": 3,
   "id": "84a04eb1",
   "metadata": {},
   "outputs": [],
   "source": [
    "import random\n",
    "import torch.nn.functional as F"
   ]
  },
  {
   "cell_type": "code",
   "execution_count": 4,
   "id": "6ace3148",
   "metadata": {},
   "outputs": [],
   "source": [
    "import math"
   ]
  },
  {
   "cell_type": "code",
   "execution_count": 5,
   "id": "2aacf6f4",
   "metadata": {},
   "outputs": [],
   "source": [
    "# Got this data from \"https://www.nseindia.com/reports-indices-historical-index-data\".\n",
    "# Need a better way to this. Ideally should work for any  user input ticker with any user input time frame.\n",
    "df = pd.read_csv('/Users/shidhesh/Desktop/Projects/MLProjects/LLM_for_StockPrice_Prediction/MLP/data/NIFTY 50_Historical_PR_24092022to24092024.csv')\n",
    "# convert the csv file into a dataframe."
   ]
  },
  {
   "cell_type": "code",
   "execution_count": 111,
   "id": "e1806ff3",
   "metadata": {},
   "outputs": [],
   "source": [
    "# Add two new columns\n",
    "df['Change'] = 0\n",
    "df['Percent Change'] = 0"
   ]
  },
  {
   "cell_type": "code",
   "execution_count": 112,
   "id": "5280f1f5",
   "metadata": {},
   "outputs": [],
   "source": [
    "# populate both the columns with daily change and percent change.\n",
    "df['Change'] = df['Close'] - df[\"Close\"].shift(-1)\n",
    "df['Percent Change'] = df['Change']/df['Close'].shift(-1)*100"
   ]
  },
  {
   "cell_type": "code",
   "execution_count": 114,
   "id": "d9eaa29e",
   "metadata": {},
   "outputs": [],
   "source": [
    "# Tokenize. Put percent change in pre defined bins.\n",
    "df['Token'] = 0\n",
    "bins = [-10,-5,-2.5,-1,-0.25,0.25,1,2.5,5]\n",
    "label = [0,1,2,3,4,5,6,7]\n",
    "df['Token'] = pd.cut(df['Percent Change'], bins = bins, labels = label)"
   ]
  },
  {
   "cell_type": "code",
   "execution_count": 115,
   "id": "a0024484",
   "metadata": {},
   "outputs": [],
   "source": [
    "# Input data\n",
    "data = list(df['Token'])[-2::-1]"
   ]
  },
  {
   "cell_type": "code",
   "execution_count": 117,
   "id": "fca13b0f",
   "metadata": {},
   "outputs": [],
   "source": [
    "# Convert the input data in sliding blocks of block_size(3) while the output will be the next token.\n",
    "block_size = 3\n",
    "X, Y = [], []\n",
    "prev = data[:block_size]\n",
    "for token in data[block_size:]:\n",
    "    X.append(prev)\n",
    "    Y.append(token)\n",
    "    prev = prev[1:]+[token]\n",
    "X = torch.tensor(X)\n",
    "Y = torch.tensor(Y)\n",
    "# X->Input tensor with each row of length block_size containing previous token\n",
    "# Y->Output containing the token following the input tokens.\n"
   ]
  },
  {
   "cell_type": "code",
   "execution_count": 118,
   "id": "a8059414",
   "metadata": {},
   "outputs": [
    {
     "data": {
      "text/plain": [
       "torch.Size([491, 3])"
      ]
     },
     "execution_count": 118,
     "metadata": {},
     "output_type": "execute_result"
    }
   ],
   "source": [
    "X.shape"
   ]
  },
  {
   "cell_type": "code",
   "execution_count": 119,
   "id": "414984bb",
   "metadata": {},
   "outputs": [],
   "source": [
    "# Each token is embedded in space of 2-d\n",
    "emb_size = 2\n",
    "h_layer_1 = 64"
   ]
  },
  {
   "cell_type": "code",
   "execution_count": 120,
   "id": "72f85368",
   "metadata": {},
   "outputs": [],
   "source": [
    "C = torch.randn((len(label),emb_size))\n",
    "\n",
    "W1 = torch.randn((block_size*emb_size,h_layer_1))#*(5/3)/((block_size*emb_size)**0.5)\n",
    "b1 = torch.randn(h_layer_1)*0.01\n",
    "\n",
    "W2 = torch.randn((h_layer_1,len(label)))*0.01\n",
    "b2 = torch.randn(len(label))*0\n",
    "\n",
    "parameters = [C,W1,b1,W2,b2]\n",
    "\n",
    "# MLP Input token -> Embedding Layer -> Hidden Layer(64 neurons) -> Output Layer -> Output Token"
   ]
  },
  {
   "cell_type": "code",
   "execution_count": 121,
   "id": "4652fb7f",
   "metadata": {},
   "outputs": [],
   "source": [
    "for p in parameters:\n",
    "    p.requires_grad = True\n",
    "# This makes sure that the parameters have gradient attribute that can be updated during backward pass."
   ]
  },
  {
   "cell_type": "code",
   "execution_count": 122,
   "id": "90bf1a72",
   "metadata": {},
   "outputs": [],
   "source": [
    "\n",
    "batch_size = 16"
   ]
  },
  {
   "cell_type": "code",
   "execution_count": 123,
   "id": "09531832",
   "metadata": {},
   "outputs": [
    {
     "name": "stdout",
     "output_type": "stream",
     "text": [
      "2.0533812046051025\n",
      "1.2747609615325928\n",
      "1.5027731657028198\n",
      "1.1971769332885742\n",
      "1.5904239416122437\n",
      "1.322588324546814\n",
      "1.3525997400283813\n",
      "1.3362430334091187\n",
      "1.1542400121688843\n",
      "1.2851200103759766\n",
      "1.0946475267410278\n"
     ]
    }
   ],
   "source": [
    "steps = 100000\n",
    "lr = 0.01 # Learning rate\n",
    "for i in range(steps):\n",
    "    ix = torch.randint(0,X.shape[0],(batch_size,)) # Randomly selects 16 (batch_size) inputs for each forward pass.\n",
    "    # forward pass\n",
    "    emb = C[X[ix]] # Embedding layer\n",
    "\n",
    "    L1 = emb.view(emb.shape[0],-1)@W1+b1 # Hidden layer\n",
    "    acc1 = torch.tanh(L1)\n",
    "\n",
    "    logits = L1@W2+b2 # Output layer\n",
    "\n",
    "    loss = F.cross_entropy(logits,Y[ix]) # loss calculation\n",
    "    \n",
    "    if i%10000 == 0:\n",
    "        print(loss.item())\n",
    "\n",
    "    # backward pass\n",
    "\n",
    "    for p in parameters: # Makes all the gradients zero before each backward pass\n",
    "        p.grad = None\n",
    "    loss.backward() # Calculates new gradient\n",
    "\n",
    "    # updates parameters\n",
    "    for p in parameters:\n",
    "        p.data += -lr*p.grad\n",
    "print(loss.item()) # Final loss."
   ]
  },
  {
   "cell_type": "code",
   "execution_count": 124,
   "id": "e34d3472",
   "metadata": {},
   "outputs": [
    {
     "data": {
      "text/plain": [
       "1.3590549230575562"
      ]
     },
     "execution_count": 124,
     "metadata": {},
     "output_type": "execute_result"
    }
   ],
   "source": [
    "# Forward pass for all training data\n",
    "emb = C[X]\n",
    "\n",
    "L1 = emb.view(emb.shape[0],-1)@W1+b1\n",
    "acc1 = torch.tanh(L1)\n",
    "\n",
    "logits = L1@W2+b2\n",
    "\n",
    "loss = F.cross_entropy(logits,Y)\n",
    "loss.item()"
   ]
  },
  {
   "cell_type": "code",
   "execution_count": 125,
   "id": "591e145a",
   "metadata": {},
   "outputs": [
    {
     "name": "stdout",
     "output_type": "stream",
     "text": [
      "23089.12210688416\n"
     ]
    }
   ],
   "source": [
    "# This block of code traces the stock price movement based on prediction given by the above trained network.\n",
    "pred = list(df['Close'][-block_size-1:])[::-1]\n",
    "curr = X[0].tolist()\n",
    "for _ in range(len(X)):\n",
    "    # forward pass on current tokens\n",
    "    emb = C[curr]\n",
    "\n",
    "    L1 = emb.view(-1,W1.shape[0])@W1+b1\n",
    "    acc1 = torch.tanh(L1)\n",
    "\n",
    "    logits = L1@W2+b2\n",
    "    \n",
    "    \n",
    "    prob = F.softmax(logits,dim =1) # probabilty distribution for next prediction.\n",
    "    new = torch.multinomial(prob, num_samples = 1, replacement = True) # new token\n",
    "    curr = curr[1:]+[new.item()] # next input\n",
    "    \n",
    "    # Calculates the next closing price of stock based on predicted token.\n",
    "    next_pred = ((random.uniform(bins[new],bins[new+1]))/100 + 1)*pred[-1] \n",
    "    pred.append(next_pred)\n",
    "print(pred[-1]) # Final stock price"
   ]
  },
  {
   "cell_type": "code",
   "execution_count": 126,
   "id": "cd7dc68b",
   "metadata": {},
   "outputs": [
    {
     "data": {
      "image/png": "[encoded data removed]",
      "text/plain": [
       "<Figure size 432x288 with 1 Axes>"
      ]
     },
     "metadata": {
      "needs_background": "light"
     },
     "output_type": "display_data"
    }
   ],
   "source": [
    "# Plots and compares the predicted price movement (blue) to the actual price movement(orange)\n",
    "plt.plot(pred)\n",
    "plt.plot(range(495),df['Close'][::-1])\n",
    "plt.show()\n",
    "# This is just one instance. Technically this should be repeated multiple times to gather general statistics.\n",
    "# To be continued ..."
   ]
  },
  {
   "cell_type": "code",
   "execution_count": null,
   "id": "1b00708f",
   "metadata": {},
   "outputs": [],
   "source": []
  }
 ],
 "metadata": {
  "kernelspec": {
   "display_name": "Python 3 (ipykernel)",
   "language": "python",
   "name": "python3"
  },
  "language_info": {
   "codemirror_mode": {
    "name": "ipython",
    "version": 3
   },
   "file_extension": ".py",
   "mimetype": "text/x-python",
   "name": "python",
   "nbconvert_exporter": "python",
   "pygments_lexer": "ipython3",
   "version": "3.9.7"
  }
 },
 "nbformat": 4,
 "nbformat_minor": 5
}
