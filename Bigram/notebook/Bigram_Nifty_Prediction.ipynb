{
 "cells": [
  {
   "cell_type": "code",
   "execution_count": 1,
   "id": "2e1f1d48",
   "metadata": {},
   "outputs": [],
   "source": [
    "# Import required libraries\n",
    "import torch"
   ]
  },
  {
   "cell_type": "code",
   "execution_count": 2,
   "id": "4fe2d86f",
   "metadata": {},
   "outputs": [],
   "source": [
    "import pandas as pd\n",
    "import numpy as np\n",
    "import matplotlib.pyplot as plt\n",
    "import random\n",
    "import yfinance as yf"
   ]
  },
  {
   "cell_type": "code",
   "execution_count": 3,
   "id": "0ede415f",
   "metadata": {},
   "outputs": [
    {
     "data": {
      "text/html": [
       "<div>\n",
       "<style scoped>\n",
       "    .dataframe tbody tr th:only-of-type {\n",
       "        vertical-align: middle;\n",
       "    }\n",
       "\n",
       "    .dataframe tbody tr th {\n",
       "        vertical-align: top;\n",
       "    }\n",
       "\n",
       "    .dataframe thead th {\n",
       "        text-align: right;\n",
       "    }\n",
       "</style>\n",
       "<table border=\"1\" class=\"dataframe\">\n",
       "  <thead>\n",
       "    <tr style=\"text-align: right;\">\n",
       "      <th></th>\n",
       "      <th>Index Name</th>\n",
       "      <th>Date</th>\n",
       "      <th>Open</th>\n",
       "      <th>High</th>\n",
       "      <th>Low</th>\n",
       "      <th>Close</th>\n",
       "    </tr>\n",
       "  </thead>\n",
       "  <tbody>\n",
       "    <tr>\n",
       "      <th>0</th>\n",
       "      <td>NIFTY 50</td>\n",
       "      <td>23 Sep 2024</td>\n",
       "      <td>25872.55</td>\n",
       "      <td>25956.00</td>\n",
       "      <td>25847.35</td>\n",
       "      <td>25939.05</td>\n",
       "    </tr>\n",
       "    <tr>\n",
       "      <th>1</th>\n",
       "      <td>NIFTY 50</td>\n",
       "      <td>20 Sep 2024</td>\n",
       "      <td>25525.95</td>\n",
       "      <td>25849.25</td>\n",
       "      <td>25426.60</td>\n",
       "      <td>25790.95</td>\n",
       "    </tr>\n",
       "    <tr>\n",
       "      <th>2</th>\n",
       "      <td>NIFTY 50</td>\n",
       "      <td>19 Sep 2024</td>\n",
       "      <td>25487.05</td>\n",
       "      <td>25611.95</td>\n",
       "      <td>25376.05</td>\n",
       "      <td>25415.80</td>\n",
       "    </tr>\n",
       "    <tr>\n",
       "      <th>3</th>\n",
       "      <td>NIFTY 50</td>\n",
       "      <td>18 Sep 2024</td>\n",
       "      <td>25402.40</td>\n",
       "      <td>25482.20</td>\n",
       "      <td>25285.55</td>\n",
       "      <td>25377.55</td>\n",
       "    </tr>\n",
       "    <tr>\n",
       "      <th>4</th>\n",
       "      <td>NIFTY 50</td>\n",
       "      <td>17 Sep 2024</td>\n",
       "      <td>25416.90</td>\n",
       "      <td>25441.65</td>\n",
       "      <td>25352.25</td>\n",
       "      <td>25418.55</td>\n",
       "    </tr>\n",
       "  </tbody>\n",
       "</table>\n",
       "</div>"
      ],
      "text/plain": [
       "  Index Name         Date      Open      High       Low     Close\n",
       "0   NIFTY 50  23 Sep 2024  25872.55  25956.00  25847.35  25939.05\n",
       "1   NIFTY 50  20 Sep 2024  25525.95  25849.25  25426.60  25790.95\n",
       "2   NIFTY 50  19 Sep 2024  25487.05  25611.95  25376.05  25415.80\n",
       "3   NIFTY 50  18 Sep 2024  25402.40  25482.20  25285.55  25377.55\n",
       "4   NIFTY 50  17 Sep 2024  25416.90  25441.65  25352.25  25418.55"
      ]
     },
     "execution_count": 3,
     "metadata": {},
     "output_type": "execute_result"
    }
   ],
   "source": [
    "# Got this data from \"https://www.nseindia.com/reports-indices-historical-index-data\".\n",
    "# Need a better way to this. Ideally should work for any  user input ticker with any user input time frame.\n",
    "df = pd.read_csv('/Users/shidhesh/Desktop/Projects/MLProjects/LLM_for_StockPrice_Prediction/Bigram/data/NIFTY 50_Historical_PR_24092022to24092024.csv')\n",
    "df.head()\n",
    "# convert the csv file into a dataframe."
   ]
  },
  {
   "cell_type": "code",
   "execution_count": 4,
   "id": "a41e61f8",
   "metadata": {},
   "outputs": [],
   "source": [
    "# Add two new columns\n",
    "df['Change'] = 0\n",
    "df['Percent Change'] = 0"
   ]
  },
  {
   "cell_type": "code",
   "execution_count": 5,
   "id": "96133498",
   "metadata": {},
   "outputs": [],
   "source": [
    "# populate both the columns with daily change and percent change.\n",
    "df['Change'] = df['Close']-df['Close'].shift(-1)"
   ]
  },
  {
   "cell_type": "code",
   "execution_count": 6,
   "id": "ab454763",
   "metadata": {},
   "outputs": [],
   "source": [
    "df['Percent Change'] = df['Change']/df['Close'].shift(-1)*100"
   ]
  },
  {
   "cell_type": "code",
   "execution_count": 7,
   "id": "d86b578c",
   "metadata": {},
   "outputs": [],
   "source": [
    "# Tokenize. Put percent change in pre defined bins.\n",
    "df['Token'] = 0\n",
    "bins = [-10,-5,-2.5,-1,-0.25,0.25,1,2.5,5]\n",
    "label = [0,1,2,3,4,5,6,7]\n",
    "df['Token'] = pd.cut(df['Percent Change'], bins = bins, labels = label)"
   ]
  },
  {
   "cell_type": "code",
   "execution_count": 8,
   "id": "eefcfe18",
   "metadata": {},
   "outputs": [
    {
     "data": {
      "text/plain": [
       "495"
      ]
     },
     "execution_count": 8,
     "metadata": {},
     "output_type": "execute_result"
    }
   ],
   "source": [
    "len(df)"
   ]
  },
  {
   "cell_type": "code",
   "execution_count": 9,
   "id": "9a35a98b",
   "metadata": {},
   "outputs": [],
   "source": [
    "# Input data\n",
    "data = (list(df['Token'])[-2::-1])"
   ]
  },
  {
   "cell_type": "code",
   "execution_count": 10,
   "id": "c0b538ab",
   "metadata": {},
   "outputs": [
    {
     "data": {
      "text/plain": [
       "[4, 3, 4, 6, 2]"
      ]
     },
     "execution_count": 10,
     "metadata": {},
     "output_type": "execute_result"
    }
   ],
   "source": [
    "data[:5]"
   ]
  },
  {
   "cell_type": "code",
   "execution_count": 11,
   "id": "edc3cf71",
   "metadata": {},
   "outputs": [],
   "source": [
    "N = torch.zeros((8,8), dtype = torch.int32)"
   ]
  },
  {
   "cell_type": "code",
   "execution_count": 12,
   "id": "a5c0484a",
   "metadata": {},
   "outputs": [],
   "source": [
    "# Bigram matrix\n",
    "for d1, d2 in zip(data, data[1:]):\n",
    "    N[d1,d2] +=  1"
   ]
  },
  {
   "cell_type": "code",
   "execution_count": 13,
   "id": "268f3745",
   "metadata": {},
   "outputs": [],
   "source": [
    "N = N.float()"
   ]
  },
  {
   "cell_type": "code",
   "execution_count": 14,
   "id": "0193d073",
   "metadata": {},
   "outputs": [
    {
     "data": {
      "text/plain": [
       "tensor([[ 0.,  0.,  0.,  0.,  0.,  0.,  0.,  1.],\n",
       "        [ 0.,  0.,  0.,  1.,  0.,  0.,  0.,  0.],\n",
       "        [ 0.,  1.,  3., 10.,  5.,  6.,  5.,  0.],\n",
       "        [ 0.,  0.,  7., 24., 34., 33.,  9.,  0.],\n",
       "        [ 0.,  0., 12., 32., 46., 60.,  9.,  1.],\n",
       "        [ 0.,  0.,  6., 36., 60., 50.,  8.,  0.],\n",
       "        [ 0.,  0.,  2.,  4., 14., 11.,  1.,  0.],\n",
       "        [ 1.,  0.,  0.,  0.,  0.,  1.,  0.,  0.]])"
      ]
     },
     "execution_count": 14,
     "metadata": {},
     "output_type": "execute_result"
    }
   ],
   "source": [
    "N"
   ]
  },
  {
   "cell_type": "code",
   "execution_count": 15,
   "id": "cb728210",
   "metadata": {},
   "outputs": [],
   "source": [
    "# Convert each row as probabilty distribution.\n",
    "prob = N/torch.sum(N, 1, keepdim =True)"
   ]
  },
  {
   "cell_type": "code",
   "execution_count": 16,
   "id": "1ccda815",
   "metadata": {},
   "outputs": [],
   "source": [
    "# Each loop predicts the next token by \n",
    "# pulling elememts as per the probability disribution given by current token row.\n",
    "# Then the percent change is selected uniformly from the selected bin/token.\n",
    "idx = 4\n",
    "curr = df['Close'][-1:].item()\n",
    "pred = [curr]\n",
    "for _ in range(494):\n",
    "    curr = ((random.uniform(bins[idx],bins[idx+1]))/100 + 1)*curr\n",
    "    pred.append(curr)\n",
    "    idx = torch.multinomial(prob[idx], num_samples = 1, replacement = True).item()\n",
    "    "
   ]
  },
  {
   "cell_type": "code",
   "execution_count": 28,
   "id": "9f3243b3",
   "metadata": {},
   "outputs": [
    {
     "data": {
      "text/plain": [
       "1.3994290357371533"
      ]
     },
     "execution_count": 28,
     "metadata": {},
     "output_type": "execute_result"
    }
   ],
   "source": [
    "# Calculate cross-entropy error.\n",
    "loss = 0\n",
    "idx = 4\n",
    "for i in range(len(data)):\n",
    "    loss -= np.log(prob[idx,data[i]].item())\n",
    "    idx = data[i]\n",
    "cross_entropy_error = loss/len(data)\n",
    "cross_entropy_error"
   ]
  },
  {
   "cell_type": "code",
   "execution_count": 17,
   "id": "957dc92d",
   "metadata": {},
   "outputs": [
    {
     "data": {
      "text/plain": [
       "495"
      ]
     },
     "execution_count": 17,
     "metadata": {},
     "output_type": "execute_result"
    }
   ],
   "source": [
    "len(pred)"
   ]
  },
  {
   "cell_type": "code",
   "execution_count": 18,
   "id": "b1711ec0",
   "metadata": {},
   "outputs": [
    {
     "data": {
      "image/png": "[encoded data removed]",
      "text/plain": [
       "<Figure size 432x288 with 1 Axes>"
      ]
     },
     "metadata": {
      "needs_background": "light"
     },
     "output_type": "display_data"
    }
   ],
   "source": [
    "# Plots and compares the predicted price movement (blue) to the actual price movement(orange)\n",
    "plt.plot(pred)\n",
    "plt.plot(range(495),df['Close'][::-1])\n",
    "plt.show()\n",
    "# This is just one instance. Technically this should be repeated multiple times to gather general statistics.\n",
    "# To be continued ..."
   ]
  },
  {
   "cell_type": "code",
   "execution_count": null,
   "id": "14569693",
   "metadata": {},
   "outputs": [],
   "source": []
  }
 ],
 "metadata": {
  "kernelspec": {
   "display_name": "Python 3 (ipykernel)",
   "language": "python",
   "name": "python3"
  },
  "language_info": {
   "codemirror_mode": {
    "name": "ipython",
    "version": 3
   },
   "file_extension": ".py",
   "mimetype": "text/x-python",
   "name": "python",
   "nbconvert_exporter": "python",
   "pygments_lexer": "ipython3",
   "version": "3.9.7"
  }
 },
 "nbformat": 4,
 "nbformat_minor": 5
}
